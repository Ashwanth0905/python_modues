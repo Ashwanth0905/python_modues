{
  "cells": [
    {
      "cell_type": "code",
      "execution_count": null,
      "metadata": {
        "id": "bPWZCP3nlf3W",
        "outputId": "34b8284d-e357-419d-8edf-ddc9595a1d54"
      },
      "outputs": [
        {
          "name": "stdout",
          "output_type": "stream",
          "text": [
            "1\n"
          ]
        },
        {
          "data": {
            "text/plain": [
              "<list_iterator at 0x1766be983a0>"
            ]
          },
          "execution_count": 10,
          "metadata": {},
          "output_type": "execute_result"
        }
      ],
      "source": [
        "#itarator\n",
        "L = [1,2,3,4,5]\n",
        "it = iter(L)\n",
        "print(next(it))\n",
        "it"
      ]
    },
    {
      "cell_type": "code",
      "execution_count": null,
      "metadata": {
        "id": "BvTIHr6Plf3b",
        "outputId": "005c047e-70f8-4acb-ffb1-675d6a73ba2c"
      },
      "outputs": [
        {
          "name": "stdout",
          "output_type": "stream",
          "text": [
            "<class 'list_iterator'>\n",
            "<class 'list'>\n"
          ]
        }
      ],
      "source": [
        "print(type(it))\n",
        "print(type(L))"
      ]
    },
    {
      "cell_type": "code",
      "execution_count": null,
      "metadata": {
        "id": "J0ddmpEPlf3d",
        "outputId": "408c924b-b424-4560-e7f3-9d5199746a3d"
      },
      "outputs": [
        {
          "data": {
            "text/plain": [
              "3"
            ]
          },
          "execution_count": 14,
          "metadata": {},
          "output_type": "execute_result"
        }
      ],
      "source": [
        "next(it)"
      ]
    },
    {
      "cell_type": "code",
      "execution_count": null,
      "metadata": {
        "id": "naOJ7NP5lf3e",
        "outputId": "5e41eb0d-4f7c-468d-e094-568ed1b4cabc"
      },
      "outputs": [
        {
          "name": "stdout",
          "output_type": "stream",
          "text": [
            "1\n",
            "2\n",
            "3\n",
            "4\n",
            "5\n"
          ]
        }
      ],
      "source": [
        "for i in iter(L):\n",
        "    print(i)"
      ]
    },
    {
      "cell_type": "code",
      "execution_count": null,
      "metadata": {
        "id": "EfkD9w-Ulf3f",
        "outputId": "a31d094d-b456-474f-ea34-b34d73a55318"
      },
      "outputs": [
        {
          "data": {
            "text/plain": [
              "tuple"
            ]
          },
          "execution_count": 16,
          "metadata": {},
          "output_type": "execute_result"
        }
      ],
      "source": [
        "#materialized itarator\n",
        "L = [1,2,3,4,5]\n",
        "it = iter(L)\n",
        "t = tuple(it)\n",
        "type(t)\n",
        "\n"
      ]
    },
    {
      "cell_type": "code",
      "execution_count": null,
      "metadata": {
        "id": "tP5DZ5uQlf3g",
        "outputId": "ea2462c9-78c3-4eaf-8223-1cc46c875a53"
      },
      "outputs": [
        {
          "data": {
            "text/plain": [
              "(1, 2, 3, 4, 5)"
            ]
          },
          "execution_count": 17,
          "metadata": {},
          "output_type": "execute_result"
        }
      ],
      "source": [
        "#unpacking itarator\n",
        "L = [1,2,3,4,5]\n",
        "it = iter(L)\n",
        "a,b,c,d,e = it\n",
        "a,b,c,d,e"
      ]
    },
    {
      "cell_type": "code",
      "execution_count": null,
      "metadata": {
        "id": "bGCSnbhflf3i",
        "outputId": "185c88fe-6670-4f2d-b9b7-c4243c0c98c1"
      },
      "outputs": [
        {
          "name": "stdout",
          "output_type": "stream",
          "text": [
            "jan 1\n",
            "feb 2\n",
            "mar 3\n",
            "apr 4\n",
            "may 5\n",
            "jun 6\n",
            "jul 7\n",
            "aug 8\n",
            "sep 9\n",
            "oct 10\n",
            "nov 11\n",
            "dec 12\n"
          ]
        }
      ],
      "source": [
        "#datatype that support iterator\n",
        "months ={\"jan\":1,\"feb\":2,\"mar\":3,\"apr\":4,\"may\":5,\"jun\":6,\"jul\":7,\"aug\":8,\"sep\":9,\"oct\":10,\"nov\":11,\"dec\":12}\n",
        "for month in months:\n",
        "    print(month,months[month])\n"
      ]
    },
    {
      "cell_type": "code",
      "execution_count": null,
      "metadata": {
        "id": "K6YPP5yTlf3j",
        "outputId": "d2b2ddb3-8c0d-492d-bb6b-d977dadaa988"
      },
      "outputs": [
        {
          "data": {
            "text/plain": [
              "[2, 4, 6]"
            ]
          },
          "execution_count": 20,
          "metadata": {},
          "output_type": "execute_result"
        }
      ],
      "source": [
        "l=[1,2,3]\n",
        "[2*i for i in l]"
      ]
    },
    {
      "cell_type": "code",
      "execution_count": null,
      "metadata": {
        "id": "5n9JDudVlf3k",
        "outputId": "177083ce-094c-4633-a7d0-4eab99a13a13"
      },
      "outputs": [
        {
          "data": {
            "text/plain": [
              "6"
            ]
          },
          "execution_count": 21,
          "metadata": {},
          "output_type": "execute_result"
        }
      ],
      "source": [
        "#list comprehension and generator\n",
        "l=[1,2,3]\n",
        "g=(2*i for i in l)\n",
        "next(g)\n",
        "next(g)\n",
        "next(g)"
      ]
    },
    {
      "cell_type": "code",
      "execution_count": null,
      "metadata": {
        "id": "Gs3A0zqDlf3l",
        "outputId": "bb761f3d-19c4-4e26-887c-c1b49b4eab29"
      },
      "outputs": [
        {
          "data": {
            "text/plain": [
              "<generator object <genexpr> at 0x000001766C491630>"
            ]
          },
          "execution_count": 22,
          "metadata": {},
          "output_type": "execute_result"
        }
      ],
      "source": [
        "line_list = ['  Presidency University\\n', ' Computer Science Department\\n', ' Dept Of CSE \\n', '  \\n']\n",
        "\n",
        "stripped_iter = (line.strip() for line in line_list)\n",
        "stripped_iter"
      ]
    },
    {
      "cell_type": "code",
      "execution_count": null,
      "metadata": {
        "id": "iSrKZlTIlf3n",
        "outputId": "2cdbdb1f-4526-4019-dbf0-283d344544b9"
      },
      "outputs": [
        {
          "name": "stdout",
          "output_type": "stream",
          "text": [
            "['Presidency University', 'Computer Science Department', 'Dept Of CSE', '']\n"
          ]
        }
      ],
      "source": [
        "# List comprehension\n",
        "stripped_list = [line.strip() for line in line_list]\n",
        "print(stripped_list)"
      ]
    },
    {
      "cell_type": "code",
      "execution_count": null,
      "metadata": {
        "id": "tSu4B1RBlf3p",
        "outputId": "2d219caf-3956-4fba-9084-297beaf1603d"
      },
      "outputs": [
        {
          "name": "stdout",
          "output_type": "stream",
          "text": [
            "['Presidency University', 'Computer Science Department']\n"
          ]
        }
      ],
      "source": [
        "#printing only certain elements using if condition in list comprehension[printing only element where length is greater than 15]\n",
        "stripped_list = [line.strip() for line in line_list if len(line) > 15]\n",
        "print(stripped_list)"
      ]
    },
    {
      "cell_type": "code",
      "execution_count": null,
      "metadata": {
        "id": "wisZLhnMlf3q",
        "outputId": "fe404eeb-3483-439c-afed-4c2de798e172"
      },
      "outputs": [
        {
          "name": "stdout",
          "output_type": "stream",
          "text": [
            "1\n",
            "2\n",
            "3\n"
          ]
        }
      ],
      "source": [
        "#basic generator function\n",
        "def simple_gen():\n",
        "    yield 1\n",
        "    yield 2\n",
        "    yield 3\n",
        "\n",
        "for value in simple_gen():\n",
        "    print(value)\n",
        "\n"
      ]
    },
    {
      "cell_type": "code",
      "execution_count": null,
      "metadata": {
        "id": "ZXGs0TMQlf3r",
        "outputId": "7826b6cd-3aba-47f9-8e72-8979d7972c5d"
      },
      "outputs": [
        {
          "name": "stdout",
          "output_type": "stream",
          "text": [
            "0\n",
            "1\n"
          ]
        }
      ],
      "source": [
        "#use of generate_ints funciton in generator\n",
        "def generate_ints(N):\n",
        "    for i in range(N):\n",
        "        yield i\n",
        "\n",
        "\n",
        "gen = generate_ints(3)\n",
        "print(next(gen))\n",
        "print(next(gen))\n"
      ]
    },
    {
      "cell_type": "code",
      "execution_count": null,
      "metadata": {
        "id": "bGpfM_wJlf3s",
        "outputId": "cd80ab2e-0929-49ec-ca0b-985055e06e37"
      },
      "outputs": [
        {
          "name": "stdout",
          "output_type": "stream",
          "text": [
            "0\n",
            "1\n",
            "8\n",
            "9\n"
          ]
        }
      ],
      "source": [
        "#send function in generator\n",
        "#use of send function in generator\n",
        "#send function is used to send value to generator\n",
        "def counter(maximum):\n",
        "    count = 0\n",
        "    while count < maximum:\n",
        "        val = (yield count)\n",
        "        # If value provided, change counter\n",
        "        if val is not None:\n",
        "            count = val\n",
        "        else:\n",
        "            count += 1\n",
        "\n",
        "it = counter(10)\n",
        "print(next(it))\n",
        "print(next(it))\n",
        "print(it.send(8))\n",
        "print(next(it))\n",
        "\n"
      ]
    },
    {
      "cell_type": "code",
      "execution_count": null,
      "metadata": {
        "id": "SwKAc9J_lf3t",
        "outputId": "6505e879-259e-4031-b4c8-01503257cf7e"
      },
      "outputs": [
        {
          "name": "stdout",
          "output_type": "stream",
          "text": [
            "0\n",
            "1\n",
            "Caught a ValueError\n",
            "2\n",
            "3\n"
          ]
        }
      ],
      "source": [
        "#throw function in generator\n",
        "#throw function is used to throw exception in generator\n",
        "\n",
        "def counter(maximum):\n",
        "    count = 0\n",
        "    while count < maximum:\n",
        "        try:\n",
        "            val = (yield count)\n",
        "        except ValueError:\n",
        "            print(\"Caught a ValueError\")\n",
        "        if val is not None:\n",
        "            count = val\n",
        "        else:\n",
        "            count += 1\n",
        "\n",
        "it = counter(10)\n",
        "print(next(it))\n",
        "print(next(it))\n",
        "print(it.throw(ValueError))\n",
        "print(next(it))\n",
        "\n"
      ]
    },
    {
      "cell_type": "code",
      "execution_count": null,
      "metadata": {
        "id": "kD_WXEH-lf3t",
        "outputId": "cd95a2a5-c96f-483e-dbb8-f55e35f6f063"
      },
      "outputs": [
        {
          "name": "stdout",
          "output_type": "stream",
          "text": [
            "0\n",
            "1\n",
            "Stopping the counter\n"
          ]
        },
        {
          "ename": "StopIteration",
          "evalue": "",
          "output_type": "error",
          "traceback": [
            "\u001b[1;31m---------------------------------------------------------------------------\u001b[0m",
            "\u001b[1;31mStopIteration\u001b[0m                             Traceback (most recent call last)",
            "Cell \u001b[1;32mIn[37], line 21\u001b[0m\n\u001b[0;32m     19\u001b[0m \u001b[38;5;28mprint\u001b[39m(\u001b[38;5;28mnext\u001b[39m(it))\n\u001b[0;32m     20\u001b[0m it\u001b[38;5;241m.\u001b[39mclose()\n\u001b[1;32m---> 21\u001b[0m \u001b[38;5;28mprint\u001b[39m(\u001b[38;5;28;43mnext\u001b[39;49m\u001b[43m(\u001b[49m\u001b[43mit\u001b[49m\u001b[43m)\u001b[49m)\n",
            "\u001b[1;31mStopIteration\u001b[0m: "
          ]
        }
      ],
      "source": [
        "#close function in generator\n",
        "#close function is used to close generator\n",
        "\n",
        "def counter(maximum):\n",
        "    count = 0\n",
        "    try:\n",
        "        while count < maximum:\n",
        "            val = (yield count)\n",
        "            if val is not None:\n",
        "                count = val\n",
        "            else:\n",
        "                count += 1\n",
        "    finally:\n",
        "        print(\"Stopping the counter\")\n",
        "\n",
        "it = counter(10)\n",
        "print(next(it))\n",
        "print(next(it))\n",
        "it.close()\n",
        "print(next(it))\n"
      ]
    },
    {
      "cell_type": "code",
      "execution_count": null,
      "metadata": {
        "id": "2tZT3Ibilf3u",
        "outputId": "4a453e03-407b-41cb-9de6-c143f1522af0"
      },
      "outputs": [
        {
          "data": {
            "text/plain": [
              "['SENTENCE', 'FRAGMENT']"
            ]
          },
          "execution_count": 38,
          "metadata": {},
          "output_type": "execute_result"
        }
      ],
      "source": [
        "def upper(s):\n",
        "  return s.upper()\n",
        "\n",
        "list(map(upper,['sentence', 'fragment']))"
      ]
    },
    {
      "cell_type": "code",
      "execution_count": null,
      "metadata": {
        "id": "AxXyy8ftlf3v",
        "outputId": "16f4d0f8-5c05-4774-9bf0-e5e86fdb34a9"
      },
      "outputs": [
        {
          "data": {
            "text/plain": [
              "[0, 2, 4, 6, 8]"
            ]
          },
          "execution_count": 42,
          "metadata": {},
          "output_type": "execute_result"
        }
      ],
      "source": [
        "#filter function\n",
        "def is_even(x):\n",
        "    return x % 2 == 0\n",
        "\n",
        "list(filter(is_even, range(10)))\n",
        "\n"
      ]
    },
    {
      "cell_type": "code",
      "execution_count": null,
      "metadata": {
        "id": "Eu6ZpfL8lf3w",
        "outputId": "3d6bd1bb-6a81-4d3c-9cb2-ef93743645b5"
      },
      "outputs": [
        {
          "name": "stdout",
          "output_type": "stream",
          "text": [
            "0 a\n",
            "1 b\n",
            "2 c\n"
          ]
        }
      ],
      "source": [
        "#enumerate function\n",
        "#enumerate function is used to add index to the iterable\n",
        "l = ['a', 'b', 'c']\n",
        "for index, value in enumerate(l):\n",
        "    print(index, value)\n",
        "\n"
      ]
    },
    {
      "cell_type": "code",
      "execution_count": null,
      "metadata": {
        "id": "H2SiJVXblf3x",
        "outputId": "687f0d6f-a823-4fae-fce0-1959a472b269"
      },
      "outputs": [
        {
          "data": {
            "text/plain": [
              "[1, 2, 3, 4]"
            ]
          },
          "execution_count": 44,
          "metadata": {},
          "output_type": "execute_result"
        }
      ],
      "source": [
        "#sort method\n",
        "l = [4, 3, 2, 1]\n",
        "l.sort()\n",
        "l\n"
      ]
    },
    {
      "cell_type": "code",
      "execution_count": null,
      "metadata": {
        "id": "SgdXS585lf3y",
        "outputId": "90d7a969-ab64-46c9-b3e8-f40698b9c99e"
      },
      "outputs": [
        {
          "name": "stdout",
          "output_type": "stream",
          "text": [
            "[10, 44, 14, 96, 15, 76, 93, 67, 37, 27]\n",
            "[10, 14, 15, 27, 37, 44, 67, 76, 93, 96]\n"
          ]
        }
      ],
      "source": [
        "import random\n",
        "un_sorted = random.sample(range(100), 10)\n",
        "print(un_sorted)\n",
        "sorted_list = sorted(un_sorted)\n",
        "print(sorted_list)"
      ]
    },
    {
      "cell_type": "code",
      "execution_count": null,
      "metadata": {
        "id": "Mtub7HcIlf3z",
        "outputId": "c3882243-71a3-411e-9b67-21ae017ce979"
      },
      "outputs": [
        {
          "name": "stdout",
          "output_type": "stream",
          "text": [
            "True\n",
            "True\n",
            "True\n",
            "False\n"
          ]
        }
      ],
      "source": [
        "#any(iter) and all(iter)\n",
        "#any(iter) returns True if any element in the iterable is True\n",
        "\n",
        "\n",
        "l = [1, 2, 3, 4, 5]\n",
        "print(any(l))\n",
        "print(all(l))\n",
        "\n",
        "l = [0, 1, 2, 3, 4, 5]\n",
        "print(any(l))\n",
        "print(all(l))\n",
        "\n",
        "\n"
      ]
    },
    {
      "cell_type": "code",
      "execution_count": null,
      "metadata": {
        "id": "loMfMdkYlf3z",
        "outputId": "77bdc0a5-3742-4737-a57f-30705ada4409"
      },
      "outputs": [
        {
          "name": "stdout",
          "output_type": "stream",
          "text": [
            "[(1, 'a'), (2, 'b'), (3, 'c')]\n"
          ]
        }
      ],
      "source": [
        "#zip function\n",
        "#zip function is used to combine two iterables element wise\n",
        "\n",
        "l1 = [1, 2, 3]\n",
        "l2 = ['a', 'b', 'c']\n",
        "z = zip(l1, l2)\n",
        "print(list(z))\n"
      ]
    }
  ],
  "metadata": {
    "kernelspec": {
      "display_name": "Python 3",
      "language": "python",
      "name": "python3"
    },
    "language_info": {
      "codemirror_mode": {
        "name": "ipython",
        "version": 3
      },
      "file_extension": ".py",
      "mimetype": "text/x-python",
      "name": "python",
      "nbconvert_exporter": "python",
      "pygments_lexer": "ipython3",
      "version": "3.12.3"
    },
    "colab": {
      "provenance": []
    }
  },
  "nbformat": 4,
  "nbformat_minor": 0
}